{
 "cells": [
  {
   "cell_type": "markdown",
   "metadata": {},
   "source": [
    "# Fangohr, Hans. Introduction to Python for Computational Science and Engineering, 2015.\n",
    "Embleton | 20160910 | Notes\n",
    "\n",
    "\n",
    "### General Notes\n",
    "* Use `help()` with a command for details\n",
    "* Use `dir()` with a command for a list of available methods\n"
   ]
  },
  {
   "cell_type": "markdown",
   "metadata": {},
   "source": [
    "## Chapter 2, A Powerful Calculator"
   ]
  },
  {
   "cell_type": "code",
   "execution_count": 1,
   "metadata": {
    "collapsed": true
   },
   "outputs": [],
   "source": [
    "import math"
   ]
  },
  {
   "cell_type": "code",
   "execution_count": 2,
   "metadata": {
    "collapsed": false
   },
   "outputs": [
    {
     "name": "stdout",
     "output_type": "stream",
     "text": [
      "Help on built-in function exp in module math:\n",
      "\n",
      "exp(...)\n",
      "    exp(x)\n",
      "    \n",
      "    Return e raised to the power of x.\n",
      "\n"
     ]
    },
    {
     "data": {
      "text/plain": [
       "2.718281828459045"
      ]
     },
     "execution_count": 2,
     "metadata": {},
     "output_type": "execute_result"
    }
   ],
   "source": [
    "dir(math)\n",
    "\n",
    "help(math.exp)\n",
    "\n",
    "math.pi\n",
    "\n",
    "math.e"
   ]
  },
  {
   "cell_type": "markdown",
   "metadata": {},
   "source": [
    "## Chapter 3, Data Types and Structures\n",
    "\n",
    "* use cmath library to calculate complex results\n",
    "* Strings are immutable, lists are mutable\n",
    "* `dir(\"\")` outputs a list of available methods\n",
    "* Sequences\n",
    "    * `a[i]` returns the ith element of a\n",
    "    * `a[i:j]` returns elements i up to j-1\n",
    "    * `len(a)` returns number of elements in a sequence\n",
    "    * `min(a)` returns the smallest value in a seq.\n",
    "    * `max(a)` \n",
    "    * `x in a` returns True if x is an element in a\n",
    "    * `a + b` concatenates seq. a and seq. b\n",
    "    * `n * a` creates n copies of seq. a\n",
    "* The `split()` method seperates the string where it finds white space or at a seperator character.\n",
    "* The join method is the opposite of split\n",
    "* Lists\n",
    "    * Empty list given by `x = []`\n",
    "    * You can mix objects within a list\n",
    "    * You can add lists within lists\n",
    "        * ? Is this the proper method for making tables?\n",
    "            * You can use scipy.arrange() or pandas\n",
    "    * `append()` to add an object to the end of a list, opposite is `remove()`\n",
    "    * `range()` command common in for loops. Use: range(start, stop, step size)\n",
    "        * Range is a type! \n",
    "* Tuple\n",
    "    * Immutable\n",
    "    * Empty tuple given by `t = ()`\n",
    "    * Tuple containing one object `t = (x,)`. The comma is required.\n",
    "* Indexing\n",
    "    * Use negative numbers to retrieve values from the back of the list\n",
    "* Slicing\n",
    "    * Slicing is different from indicing as it corresponds to the point between two indicies.\n",
    "* Dictionaries\n",
    "    * empty dictionary: `d = {}`\n",
    "    * look for matches with: `d.has_key()` or `d.has_item()`\n",
    "    * method `get(key, default)` to retrieve values or default if key not found\n",
    "    * Keyword can be any immutable object\n",
    "    * Dictionaries are very fast when retreiving values (when given the key)\n",
    "* Passing arguments to functions\n",
    "    * Modifications to values of an arguement in a function can affect the value of the original object\n",
    "* Copying\n",
    "    * `b = a` does not pass a copy of a to b and create two seperate objects.  Instead b and a refer to the same object.  Only the lable is copied. To create a copy of a with a differnt label, use something like `c = a[:]`\n",
    "    * use `id(a)` to determine if objects are the same or different\n",
    "* Equality Operators\n",
    "    * <, >, ==, >=, <=, !=\n",
    "    * Does not depend on type\n",
    "    * To compare the id use, `a is b`.  Objects with different types will not have the same id\n",
    "    \n",
    "\n",
    "\n",
    "\n"
   ]
  },
  {
   "cell_type": "code",
   "execution_count": 3,
   "metadata": {
    "collapsed": false
   },
   "outputs": [
    {
     "data": {
      "text/plain": [
       "1j"
      ]
     },
     "execution_count": 3,
     "metadata": {},
     "output_type": "execute_result"
    }
   ],
   "source": [
    "import cmath\n",
    "\n",
    "cmath.sqrt(-1)"
   ]
  },
  {
   "cell_type": "code",
   "execution_count": 4,
   "metadata": {
    "collapsed": false
   },
   "outputs": [
    {
     "name": "stdout",
     "output_type": "stream",
     "text": [
      "This is a test sentance\n",
      "THIS IS A TEST SENTANCE\n",
      "['This', 'is', 'a', 'test', 'sentance']\n"
     ]
    }
   ],
   "source": [
    "a = 'This is a test sentance'\n",
    "\n",
    "print(a)\n",
    "\n",
    "print(a.upper())\n",
    "\n",
    "print(a.split())"
   ]
  },
  {
   "cell_type": "code",
   "execution_count": 5,
   "metadata": {
    "collapsed": false
   },
   "outputs": [
    {
     "name": "stdout",
     "output_type": "stream",
     "text": [
      "The dog is hungry. The cat is bored. The snake is awake.\n",
      "['The dog is hungry', ' The cat is bored', ' The snake is awake', '']\n",
      "The dog is hungry. The cat is bored. The snake is awake.\n",
      "The dog is hungry STOP The cat is bored STOP The snake is awake STOP\n"
     ]
    }
   ],
   "source": [
    "b = \"The dog is hungry. The cat is bored. The snake is awake.\"\n",
    "print(b)\n",
    "\n",
    "s=b.split(\".\")\n",
    "\n",
    "print(s)\n",
    "\n",
    "print(\".\".join(s))\n",
    "\n",
    "print(\" STOP\".join(s))"
   ]
  },
  {
   "cell_type": "code",
   "execution_count": 6,
   "metadata": {
    "collapsed": false
   },
   "outputs": [
    {
     "name": "stdout",
     "output_type": "stream",
     "text": [
      "[1, 2, 3]\n",
      "[1, 2, 3, 45]\n",
      "[1, 3, 45]\n"
     ]
    }
   ],
   "source": [
    "a = [1, 2, 3]\n",
    "\n",
    "print(a)\n",
    "\n",
    "a.append(45)\n",
    "\n",
    "print(a)\n",
    "\n",
    "a.remove(2)\n",
    "\n",
    "print(a)"
   ]
  },
  {
   "cell_type": "code",
   "execution_count": 7,
   "metadata": {
    "collapsed": false
   },
   "outputs": [
    {
     "name": "stdout",
     "output_type": "stream",
     "text": [
      "range(3, 10)\n",
      "9\n",
      "16\n",
      "25\n",
      "36\n",
      "49\n",
      "64\n",
      "81\n",
      "100\n"
     ]
    }
   ],
   "source": [
    "print(range(3, 10))\n",
    "\n",
    "for i in range(3,11):\n",
    "    print(i**2)"
   ]
  },
  {
   "cell_type": "code",
   "execution_count": 8,
   "metadata": {
    "collapsed": false
   },
   "outputs": [
    {
     "name": "stdout",
     "output_type": "stream",
     "text": [
      "(100, 200, 'duck')\n",
      "<class 'tuple'>\n",
      "10\n",
      "20\n",
      "20\n",
      "10\n"
     ]
    }
   ],
   "source": [
    "a = 100, 200, 'duck'\n",
    "print(a)\n",
    "print(type(a))\n",
    "\n",
    "x, y = 10, 20\n",
    "print(x)\n",
    "print(y)\n",
    "\n",
    "x, y = y, x\n",
    "print(x)\n",
    "print(y)"
   ]
  },
  {
   "cell_type": "code",
   "execution_count": 9,
   "metadata": {
    "collapsed": false
   },
   "outputs": [
    {
     "name": "stdout",
     "output_type": "stream",
     "text": [
      "dog\n",
      "mouse\n",
      "['cat', 'mouse']\n"
     ]
    }
   ],
   "source": [
    "a = 'dog cat mouse'\n",
    "a = a.split()\n",
    "print(a[0])\n",
    "print(a[-1])\n",
    "print(a[-2:])"
   ]
  },
  {
   "cell_type": "code",
   "execution_count": 10,
   "metadata": {
    "collapsed": false
   },
   "outputs": [
    {
     "name": "stdout",
     "output_type": "stream",
     "text": [
      "dict_keys(['yesterday', 'today'])\n",
      "dict_values(['19 deg C', [1, 2, 3]])\n",
      "dict_items([('yesterday', '19 deg C'), ('today', [1, 2, 3])])\n",
      "{'yesterday': '19 deg C', 'today': [1, 2, 3]}\n",
      "[1, 2, 3]\n",
      "2\n",
      "{2: 4, 3: 9, 4: 16}\n",
      "{'a': 1, 'c': 3, 'b': 2}\n",
      "1\n",
      "True\n"
     ]
    },
    {
     "data": {
      "text/plain": [
       "[1, 2, 3]"
      ]
     },
     "execution_count": 10,
     "metadata": {},
     "output_type": "execute_result"
    }
   ],
   "source": [
    "## Dictionaries\n",
    "d = {}\n",
    "d['today'] = [1, 2, 3]\n",
    "\n",
    "d['yesterday'] = '19 deg C'\n",
    "\n",
    "print(d.keys())\n",
    "print(d.values())\n",
    "print(d.items())\n",
    "\n",
    "print(d)\n",
    "print(d['today'])\n",
    "print(d['today'][1])\n",
    "\n",
    "# Other methods for creating dictionaries\n",
    "d2 = {2:4, 3:9, 4:16}\n",
    "print(d2)\n",
    "\n",
    "d3 = dict(a=1, b=2, c=3)\n",
    "print(d3)\n",
    "print(d3['a'])\n",
    "\n",
    "print(d.__contains__('today'))\n",
    "d.get('today','unknown')"
   ]
  },
  {
   "cell_type": "code",
   "execution_count": 11,
   "metadata": {
    "collapsed": false
   },
   "outputs": [
    {
     "name": "stdout",
     "output_type": "stream",
     "text": [
      "Paul requests Half pint of Hoegarden\n",
      "Mary requests Gin Tonic\n",
      "Peter requests Pint of bitter\n"
     ]
    }
   ],
   "source": [
    "# Dictionary Example\n",
    "\n",
    "# create an empty directory\n",
    "order = {}\n",
    "\n",
    "# add orders as they come in\n",
    "order['Peter'] = 'Pint of bitter'\n",
    "order['Paul'] = 'Half pint of Hoegarden'\n",
    "order['Mary'] = 'Gin Tonic'\n",
    "\n",
    "# deliver order at bar\n",
    "for person in order.keys():\n",
    "    print(person, \"requests\", order[person])\n"
   ]
  },
  {
   "cell_type": "code",
   "execution_count": 12,
   "metadata": {
    "collapsed": false
   },
   "outputs": [
    {
     "name": "stdout",
     "output_type": "stream",
     "text": [
      "[42, 2, 3, 4, 5]\n",
      "[42, 2, 3, 4, 5]\n",
      "[42, 99, 3, 4, 5]\n",
      "id a:  72139272\n",
      "id b:  72139272\n",
      "id c:  67450824\n"
     ]
    }
   ],
   "source": [
    "#Copying and Identity\n",
    "\n",
    "a = [1, 2, 3, 4, 5]\n",
    "b=a\n",
    "b[0] = 42\n",
    "\n",
    "print(a)\n",
    "\n",
    "c = a[:]\n",
    "c[1] = 99\n",
    "\n",
    "print(a)\n",
    "print(c)\n",
    "print('id a: ', id(a))\n",
    "print('id b: ', id(b))\n",
    "print('id c: ', id(c))"
   ]
  },
  {
   "cell_type": "markdown",
   "metadata": {},
   "source": [
    "## Chapter 4, Introspection\n",
    "\n",
    "* Magic names start and end with a double underscore\n",
    "* `isinstance(<unit>, <type space>)` Returns true if the given object is of the given type.\n",
    "* `help(<object>)`\n",
    "* `help()` Starts aand interactive help utility\n",
    "* Provide a docstring for user defined functions\n"
   ]
  },
  {
   "cell_type": "code",
   "execution_count": 13,
   "metadata": {
    "collapsed": false
   },
   "outputs": [
    {
     "name": "stdout",
     "output_type": "stream",
     "text": [
      "(4, 8)\n",
      "Returns the tuple (x**2, x**3)\n",
      "Help on function power2and3 in module __main__:\n",
      "\n",
      "power2and3(x)\n",
      "    Returns the tuple (x**2, x**3)\n",
      "\n"
     ]
    }
   ],
   "source": [
    "# Example of documenting a user defined function and calling it.\n",
    "\n",
    "def power2and3(x):\n",
    "    \"\"\"Returns the tuple (x**2, x**3)\"\"\"\n",
    "    return x**2 ,x**3\n",
    "\n",
    "print(power2and3(2))\n",
    "\n",
    "print(power2and3.__doc__)\n",
    "\n",
    "help(power2and3)"
   ]
  },
  {
   "cell_type": "markdown",
   "metadata": {},
   "source": [
    "## Chapter 5, Input and Output\n",
    "\n",
    "* String specifiers, reprinted table below\n",
    "* Pg 54-55 for a more elegant method of string formatting used in Python 3\n",
    "* `fileobject.readlines()` method returns a list of strings\n",
    "   \n"
   ]
  },
  {
   "cell_type": "code",
   "execution_count": 14,
   "metadata": {
    "collapsed": false
   },
   "outputs": [
    {
     "data": {
      "text/plain": [
       "'1.49598e+11'"
      ]
     },
     "execution_count": 14,
     "metadata": {},
     "output_type": "execute_result"
    }
   ],
   "source": [
    "## Copied from pg 52.\n",
    "\n",
    "AU = 149597870700  #Astronomical unit in [m]\n",
    "\"%g\" %AU"
   ]
  },
  {
   "cell_type": "markdown",
   "metadata": {},
   "source": [
    "|Specifier|Style|Example Output for AU|\n",
    "|:---:|:---:|:---|\n",
    "|`%f`|Floating Point|149597870700.000000|\n",
    "|`%e`|Exponential Notation|1.495979e+11|\n",
    "|`%g`|Shorter of %e or %f|1.49598e+11|\n",
    "|`%d`|Integer|149597870700|\n",
    "|`%s`|String|149597870700|\n",
    "|`%r`|repr|149597870700L|"
   ]
  },
  {
   "cell_type": "markdown",
   "metadata": {},
   "source": [
    "\n"
   ]
  },
  {
   "cell_type": "code",
   "execution_count": 15,
   "metadata": {
    "collapsed": false
   },
   "outputs": [
    {
     "name": "stdout",
     "output_type": "stream",
     "text": [
      "Short pi = 3.14. longer pi = 3.141592653590.\n"
     ]
    }
   ],
   "source": [
    "a = math.pi\n",
    "\n",
    "print(\"Short pi = %.2f. longer pi = %.12f.\"  %(a, a))"
   ]
  },
  {
   "cell_type": "code",
   "execution_count": 16,
   "metadata": {
    "collapsed": false
   },
   "outputs": [
    {
     "name": "stdout",
     "output_type": "stream",
     "text": [
      "Writing text to file. This is the first line.\n",
      "And the second lineasdfa.\n"
     ]
    }
   ],
   "source": [
    "## Reading and Writing Files\n",
    "\n",
    "#1. Write a File\n",
    "out_file = open(\"test.txt\", \"w\")    # 'w' stands for Writing\n",
    "out_file.write(\"Writing text to file. This is the first line.\\n\"\n",
    "              \"And the second lineasdfa.\")\n",
    "out_file.close()                    # close the file\n",
    "\n",
    "#2. Read a File\n",
    "in_file = open(\"test.txt\", \"r\")       # 'r' stands for Reading\n",
    "text = in_file.read()\n",
    "\n",
    "in_file.close()\n",
    "\n",
    "#3. Display Data\n",
    "print (text)"
   ]
  },
  {
   "cell_type": "code",
   "execution_count": 17,
   "metadata": {
    "collapsed": false
   },
   "outputs": [
    {
     "name": "stdout",
     "output_type": "stream",
     "text": [
      "81\n",
      "24 characters\n",
      "25 characters\n",
      "32 characters\n"
     ]
    }
   ],
   "source": [
    "## Readlines Example\n",
    "\n",
    "myexp = open(\"myfile.txt\", \"w\")    # 'w' stands for Writing\n",
    "myexp.write(\"This is the first line.\\n\"\n",
    "            \"This is the second line.\\n\"\n",
    "            \"This is the third and last line.\")\n",
    "myexp.close()\n",
    "\n",
    "f = open('myfile.txt', \"r\")\n",
    "print(len(f.read()))\n",
    "f.close()\n",
    "\n",
    "f = open('myfile.txt', \"r\")\n",
    "for line in f.readlines():\n",
    "    print(\"%d characters\" %len(line))\n",
    "f.close()"
   ]
  },
  {
   "cell_type": "markdown",
   "metadata": {},
   "source": [
    "# Chapter 6, Control Flow\n",
    "\n",
    "* If-then-else statements\n",
    "* For loops\n",
    "* use logical operators \"`and`\" and \"`or`\" to combine conditions\n",
    "* Read chapter 8 for more on errors and exceptiosn, help('exceptions')"
   ]
  },
  {
   "cell_type": "code",
   "execution_count": 18,
   "metadata": {
    "collapsed": false
   },
   "outputs": [
    {
     "name": "stdout",
     "output_type": "stream",
     "text": [
      "a is positive\n"
     ]
    }
   ],
   "source": [
    "a = 17\n",
    "\n",
    "if a == 0:\n",
    "    print(\"a is zero\")\n",
    "elif a < 0:\n",
    "    print(\"a is negative\")\n",
    "else:\n",
    "    print(\"a is positive\")"
   ]
  },
  {
   "cell_type": "code",
   "execution_count": 19,
   "metadata": {
    "collapsed": false
   },
   "outputs": [
    {
     "name": "stdout",
     "output_type": "stream",
     "text": [
      "dog DOG\n",
      "cat CAT\n",
      "mouse MOUSE\n",
      "5\n",
      "6\n",
      "7\n",
      "8\n",
      "9\n"
     ]
    }
   ],
   "source": [
    "# for example\n",
    "for animal in ['dog', 'cat', 'mouse']:\n",
    "    print(animal, animal.upper())\n",
    "    \n",
    "for i in range(5,10):\n",
    "    print(i)"
   ]
  },
  {
   "cell_type": "markdown",
   "metadata": {},
   "source": [
    "## Chapter 7, Functions and Modules\n",
    "\n",
    "* A function takes an argument and returns a result or return value.\n",
    "* Function parameter may have default values.\n",
    "    * ie. `def print_multi_table(n, upto=10):`\n",
    "* Common to have an `if __name__ == \"__main__` to output results and capabilities only seen when program is runnin on its own.\n",
    "\n",
    "Generic Function Format:\n",
    "\n",
    "    def my_function(arg1, arg2, ..., argn):\n",
    "        \"\"\"Optional docstring.\"\"\"\n",
    "    \n",
    "        #Implementation of the function\n",
    "    \n",
    "        return result #optional\n",
    "\n",
    "    #this is not part of the function\n",
    "    some_command\n",
    "    \n"
   ]
  },
  {
   "cell_type": "markdown",
   "metadata": {},
   "source": [
    "## Chapter 8, Functional Tools\n",
    "\n",
    "* Examples using the tools `filter`, `reduce`, and `lamda`.\n",
    "* An anonymous function is only needed once or needs no name\n",
    "    * `lambda x : x**2`\n",
    "    * `(lambda x, y, z: (x + y) * z)(10, 20, 2)`\n",
    "* The map function applies function f to all elements in sequence s, `lst2 = map(f,s)`\n",
    "    * `map(lambda x:x**2, range(10))`\n",
    "* The filter function applies the function f to all elements in a sequence s, `lst2 = filter(f, lst)`\n",
    "    * The filet function should return a true or false.\n",
    "    * `filter(lambda x:x>5,range(11))`\n",
    "* List comprehension is an expression followed by a for clause, then zero or more for or if clauses.  More consise then the above methods.\n"
   ]
  },
  {
   "cell_type": "code",
   "execution_count": 20,
   "metadata": {
    "collapsed": false
   },
   "outputs": [
    {
     "name": "stdout",
     "output_type": "stream",
     "text": [
      "[0, 1, 4, 9, 16, 25, 36, 49, 64, 81]\n",
      "0\n",
      "1\n",
      "4\n",
      "9\n",
      "16\n",
      "25\n",
      "36\n",
      "49\n",
      "64\n",
      "81\n",
      "[0, 1, 4, 9, 16, 25, 36, 49, 64, 81]\n"
     ]
    }
   ],
   "source": [
    "## Maps\n",
    "\n",
    "def f(x):\n",
    "    return x**2\n",
    "\n",
    "# Two methods to print\n",
    "print(list(map(f, range(10))))\n",
    "\n",
    "for ch in map(f, range(10)):\n",
    "    print(ch)\n",
    "\n",
    "#Combining with Lambda\n",
    "print(list(map(lambda x:x**2,range(10))))\n",
    "    "
   ]
  },
  {
   "cell_type": "code",
   "execution_count": 21,
   "metadata": {
    "collapsed": false
   },
   "outputs": [
    {
     "name": "stdout",
     "output_type": "stream",
     "text": [
      "[2, 4, 6]\n",
      "[6, 12, 18]\n",
      "[12, 18]\n",
      "[]\n",
      "[[2, 4], [4, 16], [6, 36]]\n"
     ]
    }
   ],
   "source": [
    "## List Comprehensions\n",
    "\n",
    "vec = [2, 4, 6]\n",
    "print(vec)\n",
    "print([3 * x for x in vec])\n",
    "print([3 * x for x in vec if x >3])\n",
    "print([3 * x for x in vec if x <2])\n",
    "print([[x, x**2] for x in vec])"
   ]
  },
  {
   "cell_type": "markdown",
   "metadata": {},
   "source": [
    "## Chapter 9, Common Tasks\n",
    "\n",
    "* Illustrates many ways to compute a series to illustrate the differnt methods possible and also illustrate the different methods we've previously discussed.  Includes a check method and doc file.\n",
    "* `sorted` returns a copy of a sorted list while `sort` changes the list insto a sorted order of elements\n"
   ]
  },
  {
   "cell_type": "markdown",
   "metadata": {},
   "source": [
    "## Chapter 10, Matlab to Python\n",
    "* Common differences\n",
    "* The extension library numpy provides matrix functionality similar to Matlab"
   ]
  },
  {
   "cell_type": "markdown",
   "metadata": {},
   "source": [
    "## Chapter 11, Python Shells\n",
    "\n",
    "* Useful features of different Python shells\n",
    "* iPython, IPython Notebook, Spyder"
   ]
  },
  {
   "cell_type": "markdown",
   "metadata": {},
   "source": [
    "## Chapter 12, Symbolic Computation\n",
    "\n",
    "* SymPy is the Python Symbolic library, [SymPy Homepage](http://sympy.org) for full and up-to-date documentation\n",
    "* Very slow compared to floating point opperation\n",
    "* isympy an exexutable wrapper around python, convenient for figuring out new features or experementing interactively\n",
    "* Rational type, Rational(1,2) represents 1/2.\n",
    "    * Rational class works exactly as opposed to the standard float.\n",
    "* If Sympy returns the result in an unfamiliar form, subtract it with the expected form to determine if they are equivalent.\n",
    "* Calculate definite integrals with a tuple containing the variable of interest, lower, and upper bounds.\n",
    "* Results from dsolve are an Equality class, function needs to be evaluated to a number to be plotted.\n",
    "* Covers series expansion\n",
    "* LaTeX and Pretty printing\n",
    "* `preview()` allows you to display rendered output on the screen\n",
    "* Automatic generation of C code via `codegen()`\n"
   ]
  },
  {
   "cell_type": "code",
   "execution_count": 22,
   "metadata": {
    "collapsed": false
   },
   "outputs": [
    {
     "name": "stdout",
     "output_type": "stream",
     "text": [
      "2*y + 3*z\n",
      "2*sqrt(2)\n"
     ]
    }
   ],
   "source": [
    "## Symbols\n",
    "\n",
    "import sympy\n",
    "\n",
    "x, y, z = sympy.symbols('x, y, z')\n",
    "\n",
    "a = x + 2*y + 3*z - x\n",
    "\n",
    "print(a)\n",
    "\n",
    "print(sympy.sqrt(8))"
   ]
  },
  {
   "cell_type": "code",
   "execution_count": 23,
   "metadata": {
    "collapsed": false
   },
   "outputs": [
    {
     "name": "stdout",
     "output_type": "stream",
     "text": [
      "2*y + 10\n",
      "16\n",
      "16\n",
      "t0 = 36, 0.01 Stress at 0.021 Strain\n",
      "t0 = 52, 0.01 Stress at 0.047 Strain\n",
      "t0 = 77, 0.01 Stress at 0.056 Strain\n"
     ]
    }
   ],
   "source": [
    "x, y = sympy.symbols('x,y')\n",
    "a = x + 2*y\n",
    "print(a.subs(x, 10))\n",
    "print(a.subs(x,10).subs(y,3))\n",
    "print(a.subs({x:10, y:3}))\n",
    "\n",
    "SS_77 =  -y + -23.625*x**3 - 5.3065*x**2 + 5.6633*x\n",
    "SS_52 =  -y + -245.67*x**3 + 31.951*x**2 + 4.4341*x\n",
    "SS_36 =  -y + -18.58*x**3 - 5.4025*x**2 + 2.1623*x\n",
    "\n",
    "\n",
    "\n",
    "#print(\"t0 = 36, 0.5 Strain at %.2f MPa\" % sympy.solve(SS_36.subs(y, 0.5),x)[0])\n",
    "#print(\"t0 = 52, 0.5 Strain at %.2f MPa\" % sympy.solve(SS_52.subs(y, 0.5),x)[0])\n",
    "#print(\"t0 = 77, 0.5 Strain at %.2f MPa\" % sympy.solve(SS_77.subs(y, 0.5),x)[0])\n",
    "\n",
    "print(\"t0 = 36, 0.01 Stress at %.3f Strain\" % sympy.solve(SS_36.subs(x, .01),y)[0])\n",
    "print(\"t0 = 52, 0.01 Stress at %.3f Strain\" % sympy.solve(SS_52.subs(x, .01),y)[0])\n",
    "print(\"t0 = 77, 0.01 Stress at %.3f Strain\" % sympy.solve(SS_77.subs(x, .01),y)[0])"
   ]
  },
  {
   "cell_type": "code",
   "execution_count": 24,
   "metadata": {
    "collapsed": false
   },
   "outputs": [
    {
     "name": "stdout",
     "output_type": "stream",
     "text": [
      "2/3\n",
      "0.6666666666666666\n",
      "0.666666666666667\n",
      "0.66666666666666666666666666666666666666666666666667\n"
     ]
    }
   ],
   "source": [
    "a = sympy.Rational(2,3)\n",
    "print(a)\n",
    "print(float(a))\n",
    "print(a.evalf())\n",
    "print(a.evalf(50))"
   ]
  },
  {
   "cell_type": "code",
   "execution_count": 25,
   "metadata": {
    "collapsed": false
   },
   "outputs": [
    {
     "name": "stdout",
     "output_type": "stream",
     "text": [
      "12*x**3\n",
      "72*x\n",
      "72*x\n"
     ]
    }
   ],
   "source": [
    "# Differentiation\n",
    "\n",
    "print(sympy.diff(3*x**4, x))\n",
    "print(sympy.diff(3*x**4, x, x, x))\n",
    "print(sympy.diff(3*x**4, x, 3))"
   ]
  },
  {
   "cell_type": "code",
   "execution_count": 26,
   "metadata": {
    "collapsed": false
   },
   "outputs": [
    {
     "name": "stdout",
     "output_type": "stream",
     "text": [
      "y*sin(x)\n",
      "-cos(x)\n",
      "x**2\n",
      "4\n",
      "16/3\n"
     ]
    }
   ],
   "source": [
    "## Integration\n",
    "\n",
    "from sympy import integrate\n",
    "\n",
    "print(integrate(sympy.sin(x), y))\n",
    "print(integrate(sympy.sin(x), x))\n",
    "\n",
    "# Definite Integrals\n",
    "print(integrate(x*2, x))\n",
    "print(integrate(x*2, (x, 0, 2)))\n",
    "print(integrate(x**2, (x,0,2), (x, 0, 2), (y,0,1)))"
   ]
  },
  {
   "cell_type": "code",
   "execution_count": 27,
   "metadata": {
    "collapsed": false,
    "scrolled": true
   },
   "outputs": [
    {
     "name": "stdout",
     "output_type": "stream",
     "text": [
      "Eq(y(x), C1*exp(-5*x))\n",
      "Eq(y(x), C1*exp(-5*x))\n",
      "Eq(y(x), C1*exp(-5*x)/5 + 12/5)\n"
     ]
    }
   ],
   "source": [
    "## Ordinary Differential Equations\n",
    "\n",
    "from sympy import Symbol, dsolve, Function, Derivative, Eq\n",
    "\n",
    "y = Function(\"y\")\n",
    "x = Symbol('x')\n",
    "y_ = Derivative(y(x), x)\n",
    "print(dsolve(y_ + 5*y(x), y(x)))\n",
    "print(dsolve(Eq(y_ + 5*y(x), 0), y(x)))\n",
    "print(dsolve(Eq(y_ + 5*y(x), 12), y(x)))"
   ]
  },
  {
   "cell_type": "code",
   "execution_count": 28,
   "metadata": {
    "collapsed": false
   },
   "outputs": [
    {
     "name": "stdout",
     "output_type": "stream",
     "text": [
      "Matrix([[3, 7], [4, -2]])\n",
      "Matrix([[1/17, 7/34], [2/17, -3/34]])\n"
     ]
    }
   ],
   "source": [
    "## Linear Equations and Matrix Inversion\n",
    "\n",
    "from sympy import symbols, Matrix\n",
    "\n",
    "x, y, z = symbols('x,y,z')\n",
    "\n",
    "A = Matrix(([3,7], [4,-2]))\n",
    "print(A)\n",
    "\n",
    "print(A.inv())"
   ]
  },
  {
   "cell_type": "code",
   "execution_count": 29,
   "metadata": {
    "collapsed": false
   },
   "outputs": [
    {
     "name": "stdout",
     "output_type": "stream",
     "text": [
      "[0, 1]\n"
     ]
    }
   ],
   "source": [
    "## Solving Non Linear Equations\n",
    "\n",
    "import sympy\n",
    "\n",
    "x, y, z = sympy.symbols('x,y,z')\n",
    "eq = x - x**2\n",
    "print(sympy.solve(eq,x))"
   ]
  },
  {
   "cell_type": "markdown",
   "metadata": {},
   "source": [
    "## Chapter 14, Numerical Calculation\n",
    "\n",
    "* Limitations of the different number types: int, float, complex, and long.\n",
    "* Comparing float and symbolic time to compute."
   ]
  },
  {
   "cell_type": "markdown",
   "metadata": {},
   "source": [
    "## Chapter 15, Numerical Python (numpy): arrays\n",
    "\n",
    "* The data structure, `array`, allows efficient matrix and vector operation\n",
    "* An array can only keep elements of the same type, as opposed to lists which can hold a mix.\n",
    "* Convert a matrix back tp a list or tuple using, `list(s)` or `tuple(s)`.\n",
    "* Computing eiganvectors and eiganvalues\n",
    "* Numpy examples at [SciPy.org](http://www.scipy.org/Numpy_Example_List)\n",
    "\n"
   ]
  },
  {
   "cell_type": "code",
   "execution_count": 30,
   "metadata": {
    "collapsed": false
   },
   "outputs": [
    {
     "name": "stdout",
     "output_type": "stream",
     "text": [
      "[ 0.   0.5  1.   1.5]\n",
      "[ 0.  0.  0.  0.]\n",
      "[[ 0.  0.  0.  0.]\n",
      " [ 0.  0.  0.  0.]\n",
      " [ 0.  0.  0.  0.]\n",
      " [ 0.  0.  0.  0.]\n",
      " [ 0.  0.  0.  0.]]\n",
      "(5, 4)\n",
      "0.0\n",
      "[[ 0.62986856  0.08414351  0.86029432  0.23673407  0.69039432]\n",
      " [ 0.09499312  0.46304194  0.83582097  0.80421487  0.99190126]\n",
      " [ 0.98594909  0.58822546  0.86016599  0.41493799  0.31856799]\n",
      " [ 0.91495891  0.38045604  0.67692051  0.39180708  0.22073492]\n",
      " [ 0.65115666  0.67522929  0.69594017  0.13819881  0.62083603]]\n",
      "b=  [ 0.39203078  0.83042469  0.85378184  0.62487284  0.88562137]\n"
     ]
    }
   ],
   "source": [
    "## Vectors (1d-arrays)\n",
    "\n",
    "import numpy as N\n",
    "\n",
    "x = N.array([0, 0.5, 1, 1.5])\n",
    "\n",
    "print(x)\n",
    "\n",
    "print(N.zeros(4))\n",
    "a = N.zeros((5,4))\n",
    "print(a)\n",
    "print(a.shape)\n",
    "\n",
    "print(a[2,3])\n",
    "\n",
    "random_matrix = N.random.rand(5,5)\n",
    "print(random_matrix)\n",
    "\n",
    "x = N.random.rand(5)\n",
    "\n",
    "b = N.dot(random_matrix, x)\n",
    "print(\"b= \", b)\n"
   ]
  },
  {
   "cell_type": "code",
   "execution_count": 31,
   "metadata": {
    "collapsed": false
   },
   "outputs": [
    {
     "name": "stdout",
     "output_type": "stream",
     "text": [
      "z =  [ 0.08703704 -0.81349206  1.69312169 -0.03968254]\n",
      "p =           3          2\n",
      "0.08704 x - 0.8135 x + 1.693 x - 0.03968\n"
     ]
    },
    {
     "data": {
      "image/png": "[encoded data removed]",
      "text/plain": [
       "<matplotlib.figure.Figure at 0x76bb908>"
      ]
     },
     "metadata": {},
     "output_type": "display_data"
    }
   ],
   "source": [
    "## Curve Fitting of Polynomial Example\n",
    "\n",
    "import numpy\n",
    "\n",
    "# demo curve fitting: xdata and ydata are input data\n",
    "xdata = numpy.array([0.0, 1.0, 2.0, 3.0, 4.0, 5.0])\n",
    "ydata = numpy.array([0.0, 0.8, 0.9, 0.1, -0.8, -1.0])\n",
    "\n",
    "#now fit for cubic (order = 3) polynomial\n",
    "z = numpy.polyfit(xdata, ydata, 3)\n",
    "\n",
    "#z is an array of coefficients, highest first, i.e.\n",
    "#          x^3         X^2      X       0\n",
    "#z=array([0.08703704, -0.8134, 1.693, -0.0396])\n",
    "\n",
    "print(\"z = \", z)\n",
    "\n",
    "#It is convenient to use `poly1d` objects for dealing with polynomials\n",
    "p = numpy.poly1d(z)    #Creates a polynomial function p from coefficients and p can be evaluated for all x then.\n",
    "\n",
    "print(\"p = \",p)\n",
    "\n",
    "#Create a plot\n",
    "xs = [0.1 * i for i in range(50)]\n",
    "ys = [p(x) for x in xs]    # evaluates p(x) for all x in list xs\n",
    "\n",
    "%matplotlib inline\n",
    "import pylab\n",
    "pylab.plot(xdata, ydata, 'o', label = 'data')\n",
    "pylab.plot(xs, ys, label = 'fitted curve')\n",
    "pylab.ylabel('y')\n",
    "pylab.xlabel('x')\n",
    "#pylab.savefig('polyfit.pdf')\n",
    "pylab.show()"
   ]
  },
  {
   "cell_type": "markdown",
   "metadata": {},
   "source": [
    "## Chapter 15, Visualizing Data\n",
    "\n",
    "* Need to include all the useful links here\n",
    "* IPython Inline mode via: `%matplotlib inline`, `%matplotlib qt`, or `%pylab`.\n",
    "* `help(pylab.legend)` for legend placement information\n",
    "* `help(pylab.plot)` for line style, color, thickness, etc calls\n",
    "    * Colors can be called out in RGB, Hex, greyscale, etc.\n",
    "* Subplot to call more than one plot in one figure, `pylab.subplot(numRows, numCols, plotNum)`.\n",
    "* Multiple figures via: `pylab.figure(figNum)`.\n",
    "* `pylab.close()` may be used to close one, some, or all figures.\n",
    "* Use `pyplot.imshow()` to visualize matrix data (heat plot).\n",
    "    * Use different color maps with the module `matplotlib.cm`\n",
    "* Check out the contour_demo.py example for illustrating `z=f(x,y)`\n",
    "* Visual Python is a module that allows you to create and animate 3D scenes.\n",
    "    * Visual Python [Home Page](http://vpython.org)\n",
    "    * Useful for illustrating time dependent data\n",
    "* Visualising 2D and 3D fields as a function of time with the Visualization Toolkit, [VTK](http://vtk.org).\n",
    "* Other modules: Mayavi, Paraview, and VisIt.\n",
    "\n"
   ]
  },
  {
   "cell_type": "code",
   "execution_count": 32,
   "metadata": {
    "collapsed": false
   },
   "outputs": [
    {
     "data": {
      "image/png": "[encoded data removed]",
      "text/plain": [
       "<matplotlib.figure.Figure at 0x44c70f0>"
      ]
     },
     "metadata": {},
     "output_type": "display_data"
    }
   ],
   "source": [
    "## Plot details example\n",
    "\n",
    "import pylab\n",
    "import numpy as N\n",
    "\n",
    "%matplotlib inline\n",
    "\n",
    "x = N.arange(-3.14, 3.14, 0.01)\n",
    "y1 = N.sin(x)\n",
    "y2 = N.cos(x)\n",
    "\n",
    "pylab.figure(figsize=(5,5))    #Sets figure size to 5 x 5 in.\n",
    "pylab.plot(x, y1, label='sin(x)')\n",
    "pylab.plot(x, y2, label='cos(x)')\n",
    "pylab.legend()\n",
    "pylab.grid()\n",
    "pylab.xlabel('x')\n",
    "pylab.title('This is the Title')\n",
    "pylab.axis([-2,2,-1,1])\n",
    "pylab.show()\n"
   ]
  },
  {
   "cell_type": "code",
   "execution_count": 33,
   "metadata": {
    "collapsed": false
   },
   "outputs": [
    {
     "data": {
      "image/png": "[encoded data removed]",
      "text/plain": [
       "<matplotlib.figure.Figure at 0xa0025c0>"
      ]
     },
     "metadata": {},
     "output_type": "display_data"
    }
   ],
   "source": [
    "## Histogram Example\n",
    "\n",
    "import numpy as np\n",
    "import matplotlib.mlab as mlab\n",
    "import matplotlib.pylab as plt\n",
    "\n",
    "# create data\n",
    "mu, sigma = 100, 15\n",
    "x = mu + sigma * np.random.randn(10000)\n",
    "\n",
    "#histogram of the data\n",
    "n, bins, patches = plt.hist(x, 50, normed=1, facecolor='green', alpha=0.75)\n",
    "\n",
    "#fine tuning the plot\n",
    "plt.xlabel('Smarts')\n",
    "plt.ylabel('Probability')\n",
    "\n",
    "#LaTeX strings for labels and titles\n",
    "plt.title(r'$\\mathrm{Histogram\\ of\\ IQ :}\\ \\mu=100,\\ \\sigma=15$')\n",
    "plt.axis([40, 160, 0, 0.03])\n",
    "plt.grid(True)\n",
    "\n",
    "#add a best fit line curve\n",
    "y = mlab.normpdf(bins, mu, sigma)\n",
    "l = plt.plot(bins, y, 'r--', linewidth=1)\n",
    "             \n",
    "#Save to file\n",
    "#plt.savefig('pylabhistogram.pdf')\n",
    "#then display\n",
    "plt.show()\n"
   ]
  },
  {
   "cell_type": "markdown",
   "metadata": {},
   "source": [
    "## Chapter 16, Numerical Methods using Python (scipy)\n",
    "\n",
    "* The `scipy` package privides numerous numerical algorithms\n",
    "* All functionality from `numpy` may be available in `scipy`\n",
    "* Using `help(scipy)` will detail the package structure.  You can call specific sections ie. `import scipy.integrate`.\n",
    "* Use `scipy.quad()` to solve integrals of the form $\\int_{a}^{b} f(x)dx$\n",
    "    * Functions that approach +/- inf may be difficult to handle numerically.  Plot results with integand to check\n",
    "* Use `scipy.odeint()` to solve differential equations of the type $\\frac{\\partial y}{\\partial t}(t) = f(y,t)$\n",
    "    * `help(scipy.integrate.odeint)` to explore differnet error tolerance options\n",
    "* Using the `bisect()` method to find roots.  Requires arguments f(x), lower limit, and upper limit.  Optional xtol parameter.\n",
    "* Using `fsolve()` to find roots is more efficient, but not garunteed to converge.  Input argument is a starting location suspected close to the root.\n",
    "* The function `y0 = scipy.interpolate.interp1d(x, y, kind='nearest')` may be used to interpolate the data $(x_i, y_i)$ for all x.\n",
    "* A generic curve fitting function is provided with `scipy.optimize.curve_fit()`\n",
    "* FFT example below\n",
    "* Optimization, using `scipy.optimize.fmin()` to find the minimum of a function. Arguments are the function and starting point.\n",
    "\n"
   ]
  },
  {
   "cell_type": "code",
   "execution_count": 34,
   "metadata": {
    "collapsed": false
   },
   "outputs": [
    {
     "name": "stdout",
     "output_type": "stream",
     "text": [
      "The numerical result is 17.864264 (+/-1.6e-11)\n"
     ]
    }
   ],
   "source": [
    "## Integral Example\n",
    "\n",
    "from math import cos, exp, pi\n",
    "from scipy.integrate import quad\n",
    "\n",
    "#function  we want to integrate\n",
    "def f(x):\n",
    "    return exp(cos(-2 * x * pi)) + 3.2\n",
    "\n",
    "#call quad to integrate f from -2 to 2\n",
    "res, err = quad(f, -2, 2)\n",
    "\n",
    "print(\"The numerical result is {:f} (+/-{:.2g})\" .format(res, err))"
   ]
  },
  {
   "cell_type": "code",
   "execution_count": 35,
   "metadata": {
    "collapsed": false
   },
   "outputs": [
    {
     "data": {
      "image/png": "[encoded data removed]",
      "text/plain": [
       "<matplotlib.figure.Figure at 0x7d3eba8>"
      ]
     },
     "metadata": {},
     "output_type": "display_data"
    }
   ],
   "source": [
    "## ODE Example\n",
    "\n",
    "from scipy.integrate import odeint\n",
    "import numpy as N\n",
    "\n",
    "def f(y,t):\n",
    "    \"\"\"This returns the RHS of the ODE to integrate, i.e. dy/dt = f(y,t)\"\"\"\n",
    "    return(-2 * y * t)\n",
    "\n",
    "y0 = 1    # initial value\n",
    "a = 0     # integration limits for t\n",
    "b = 2\n",
    "\n",
    "t = N.arange(a, b, 0.01)  # values of t for which we require the solution y(t)\n",
    "\n",
    "y = odeint(f, y0, t)  # actual computation of y(t)\n",
    "\n",
    "import pylab     # Plotting of results\n",
    "\n",
    "%matplotlib inline\n",
    "pylab.plot(t, y)\n",
    "pylab.xlabel('t'); pylab.ylabel('y(t)')\n",
    "pylab.show()"
   ]
  },
  {
   "cell_type": "code",
   "execution_count": 36,
   "metadata": {
    "collapsed": false
   },
   "outputs": [
    {
     "data": {
      "image/png": "[encoded data removed]",
      "text/plain": [
       "<matplotlib.figure.Figure at 0x5f2a9b0>"
      ]
     },
     "metadata": {},
     "output_type": "display_data"
    }
   ],
   "source": [
    "## FFT exmaple\n",
    "# Create a superposition of 50 and 70 Hz and plot the fft.\n",
    "\n",
    "import scipy\n",
    "import matplotlib.pyplot as plt\n",
    "%matplotlib inline\n",
    "pi = scipy.pi\n",
    "\n",
    "signal_length = 0.5 # [seconds]\n",
    "sample_rate = 500   # sampling rate [Hz]\n",
    "dt = 1./sample_rate # delta t [s]\n",
    "\n",
    "df = 1/signal_length    # frequency between points in the freq. domain [Hz]\n",
    "\n",
    "t = scipy.arange(0, signal_length, dt) # the time vector\n",
    "n_t = len(t)                           # length of the time vector\n",
    "\n",
    "# create signal\n",
    "y = scipy.sin(2*pi*50*t) + scipy.sin(2*pi*70*t + pi/4)\n",
    "\n",
    "# compute the fourier transport\n",
    "f = scipy.fft(y)\n",
    "\n",
    "# work out meaningful frequencies in fourier transform\n",
    "freqs = df*scipy.arange(0,(n_t-1)/2.,dtype='d')    #d = double precision float\n",
    "n_freq = len(freqs)\n",
    "\n",
    "# plot input data y against time\n",
    "plt.subplot(2,1,1)\n",
    "plt.plot(t, y, label='input data')\n",
    "plt.xlabel('time [s]')\n",
    "plt.ylabel('signal')\n",
    "\n",
    "# plot frequency spectrum\n",
    "plt.subplot(2,1,2)\n",
    "plt.plot(freqs, abs(f[0:n_freq]), label='abs(fourier transform)')\n",
    "plt.xlabel('frequency [Hz]')\n",
    "plt.ylabel('abs(DFT(signal))')\n",
    "\n",
    "# save plot to disk\n",
    "#plt.savefig('fft1.pdf')\n",
    "plt.show()"
   ]
  },
  {
   "cell_type": "markdown",
   "metadata": {},
   "source": [
    "## Chapter 17, Where to go from here?\n",
    "\n",
    "* A list of additional skills for computational science work."
   ]
  }
 ],
 "metadata": {
  "anaconda-cloud": {},
  "celltoolbar": "Raw Cell Format",
  "kernelspec": {
   "display_name": "Python [Root]",
   "language": "python",
   "name": "Python [Root]"
  },
  "language_info": {
   "codemirror_mode": {
    "name": "ipython",
    "version": 3
   },
   "file_extension": ".py",
   "mimetype": "text/x-python",
   "name": "python",
   "nbconvert_exporter": "python",
   "pygments_lexer": "ipython3",
   "version": "3.5.2"
  }
 },
 "nbformat": 4,
 "nbformat_minor": 0
}
